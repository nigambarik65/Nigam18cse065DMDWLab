{
  "nbformat": 4,
  "nbformat_minor": 0,
  "metadata": {
    "colab": {
      "name": "Assignment3.ipynb",
      "provenance": [],
      "authorship_tag": "ABX9TyPRDVFlU9+E1AtAzeH34War",
      "include_colab_link": true
    },
    "kernelspec": {
      "name": "python3",
      "display_name": "Python 3"
    },
    "language_info": {
      "name": "python"
    }
  },
  "cells": [
    {
      "cell_type": "markdown",
      "metadata": {
        "id": "view-in-github",
        "colab_type": "text"
      },
      "source": [
        "<a href=\"https://colab.research.google.com/github/nigambarik65/Nigam18cse065DMDWLab/blob/main/Assignment3.ipynb\" target=\"_parent\"><img src=\"https://colab.research.google.com/assets/colab-badge.svg\" alt=\"Open In Colab\"/></a>"
      ]
    },
    {
      "cell_type": "code",
      "metadata": {
        "colab": {
          "base_uri": "https://localhost:8080/",
          "height": 419
        },
        "id": "Ovv34qEhh_cQ",
        "outputId": "f8d2f229-17d1-4722-e3f4-feea2c795eb3"
      },
      "source": [
        "import pandas as pd\n",
        "path=\"https://raw.githubusercontent.com/nigambarik65/Nigam18cse065DMDWLab/main/Toyota.csv\"\n",
        "data =pd.read_csv(path)\n",
        "data"
      ],
      "execution_count": 1,
      "outputs": [
        {
          "output_type": "execute_result",
          "data": {
            "text/html": [
              "<div>\n",
              "<style scoped>\n",
              "    .dataframe tbody tr th:only-of-type {\n",
              "        vertical-align: middle;\n",
              "    }\n",
              "\n",
              "    .dataframe tbody tr th {\n",
              "        vertical-align: top;\n",
              "    }\n",
              "\n",
              "    .dataframe thead th {\n",
              "        text-align: right;\n",
              "    }\n",
              "</style>\n",
              "<table border=\"1\" class=\"dataframe\">\n",
              "  <thead>\n",
              "    <tr style=\"text-align: right;\">\n",
              "      <th></th>\n",
              "      <th>Unnamed: 0</th>\n",
              "      <th>Price</th>\n",
              "      <th>Age</th>\n",
              "      <th>KM</th>\n",
              "      <th>FuelType</th>\n",
              "      <th>HP</th>\n",
              "      <th>MetColor</th>\n",
              "      <th>Automatic</th>\n",
              "      <th>CC</th>\n",
              "      <th>Doors</th>\n",
              "      <th>Weight</th>\n",
              "    </tr>\n",
              "  </thead>\n",
              "  <tbody>\n",
              "    <tr>\n",
              "      <th>0</th>\n",
              "      <td>0</td>\n",
              "      <td>13500</td>\n",
              "      <td>23.0</td>\n",
              "      <td>46986</td>\n",
              "      <td>Diesel</td>\n",
              "      <td>90</td>\n",
              "      <td>1.0</td>\n",
              "      <td>0</td>\n",
              "      <td>2000</td>\n",
              "      <td>three</td>\n",
              "      <td>1165</td>\n",
              "    </tr>\n",
              "    <tr>\n",
              "      <th>1</th>\n",
              "      <td>1</td>\n",
              "      <td>13750</td>\n",
              "      <td>23.0</td>\n",
              "      <td>72937</td>\n",
              "      <td>Diesel</td>\n",
              "      <td>90</td>\n",
              "      <td>1.0</td>\n",
              "      <td>0</td>\n",
              "      <td>2000</td>\n",
              "      <td>3</td>\n",
              "      <td>1165</td>\n",
              "    </tr>\n",
              "    <tr>\n",
              "      <th>2</th>\n",
              "      <td>2</td>\n",
              "      <td>13950</td>\n",
              "      <td>24.0</td>\n",
              "      <td>41711</td>\n",
              "      <td>Diesel</td>\n",
              "      <td>90</td>\n",
              "      <td>NaN</td>\n",
              "      <td>0</td>\n",
              "      <td>2000</td>\n",
              "      <td>3</td>\n",
              "      <td>1165</td>\n",
              "    </tr>\n",
              "    <tr>\n",
              "      <th>3</th>\n",
              "      <td>3</td>\n",
              "      <td>14950</td>\n",
              "      <td>26.0</td>\n",
              "      <td>48000</td>\n",
              "      <td>Diesel</td>\n",
              "      <td>90</td>\n",
              "      <td>0.0</td>\n",
              "      <td>0</td>\n",
              "      <td>2000</td>\n",
              "      <td>3</td>\n",
              "      <td>1165</td>\n",
              "    </tr>\n",
              "    <tr>\n",
              "      <th>4</th>\n",
              "      <td>4</td>\n",
              "      <td>13750</td>\n",
              "      <td>30.0</td>\n",
              "      <td>38500</td>\n",
              "      <td>Diesel</td>\n",
              "      <td>90</td>\n",
              "      <td>0.0</td>\n",
              "      <td>0</td>\n",
              "      <td>2000</td>\n",
              "      <td>3</td>\n",
              "      <td>1170</td>\n",
              "    </tr>\n",
              "    <tr>\n",
              "      <th>...</th>\n",
              "      <td>...</td>\n",
              "      <td>...</td>\n",
              "      <td>...</td>\n",
              "      <td>...</td>\n",
              "      <td>...</td>\n",
              "      <td>...</td>\n",
              "      <td>...</td>\n",
              "      <td>...</td>\n",
              "      <td>...</td>\n",
              "      <td>...</td>\n",
              "      <td>...</td>\n",
              "    </tr>\n",
              "    <tr>\n",
              "      <th>1431</th>\n",
              "      <td>1431</td>\n",
              "      <td>7500</td>\n",
              "      <td>NaN</td>\n",
              "      <td>20544</td>\n",
              "      <td>Petrol</td>\n",
              "      <td>86</td>\n",
              "      <td>1.0</td>\n",
              "      <td>0</td>\n",
              "      <td>1300</td>\n",
              "      <td>3</td>\n",
              "      <td>1025</td>\n",
              "    </tr>\n",
              "    <tr>\n",
              "      <th>1432</th>\n",
              "      <td>1432</td>\n",
              "      <td>10845</td>\n",
              "      <td>72.0</td>\n",
              "      <td>??</td>\n",
              "      <td>Petrol</td>\n",
              "      <td>86</td>\n",
              "      <td>0.0</td>\n",
              "      <td>0</td>\n",
              "      <td>1300</td>\n",
              "      <td>3</td>\n",
              "      <td>1015</td>\n",
              "    </tr>\n",
              "    <tr>\n",
              "      <th>1433</th>\n",
              "      <td>1433</td>\n",
              "      <td>8500</td>\n",
              "      <td>NaN</td>\n",
              "      <td>17016</td>\n",
              "      <td>Petrol</td>\n",
              "      <td>86</td>\n",
              "      <td>0.0</td>\n",
              "      <td>0</td>\n",
              "      <td>1300</td>\n",
              "      <td>3</td>\n",
              "      <td>1015</td>\n",
              "    </tr>\n",
              "    <tr>\n",
              "      <th>1434</th>\n",
              "      <td>1434</td>\n",
              "      <td>7250</td>\n",
              "      <td>70.0</td>\n",
              "      <td>??</td>\n",
              "      <td>NaN</td>\n",
              "      <td>86</td>\n",
              "      <td>1.0</td>\n",
              "      <td>0</td>\n",
              "      <td>1300</td>\n",
              "      <td>3</td>\n",
              "      <td>1015</td>\n",
              "    </tr>\n",
              "    <tr>\n",
              "      <th>1435</th>\n",
              "      <td>1435</td>\n",
              "      <td>6950</td>\n",
              "      <td>76.0</td>\n",
              "      <td>1</td>\n",
              "      <td>Petrol</td>\n",
              "      <td>110</td>\n",
              "      <td>0.0</td>\n",
              "      <td>0</td>\n",
              "      <td>1600</td>\n",
              "      <td>5</td>\n",
              "      <td>1114</td>\n",
              "    </tr>\n",
              "  </tbody>\n",
              "</table>\n",
              "<p>1436 rows × 11 columns</p>\n",
              "</div>"
            ],
            "text/plain": [
              "      Unnamed: 0  Price   Age     KM  ... Automatic    CC  Doors  Weight\n",
              "0              0  13500  23.0  46986  ...         0  2000  three    1165\n",
              "1              1  13750  23.0  72937  ...         0  2000      3    1165\n",
              "2              2  13950  24.0  41711  ...         0  2000      3    1165\n",
              "3              3  14950  26.0  48000  ...         0  2000      3    1165\n",
              "4              4  13750  30.0  38500  ...         0  2000      3    1170\n",
              "...          ...    ...   ...    ...  ...       ...   ...    ...     ...\n",
              "1431        1431   7500   NaN  20544  ...         0  1300      3    1025\n",
              "1432        1432  10845  72.0     ??  ...         0  1300      3    1015\n",
              "1433        1433   8500   NaN  17016  ...         0  1300      3    1015\n",
              "1434        1434   7250  70.0     ??  ...         0  1300      3    1015\n",
              "1435        1435   6950  76.0      1  ...         0  1600      5    1114\n",
              "\n",
              "[1436 rows x 11 columns]"
            ]
          },
          "metadata": {
            "tags": []
          },
          "execution_count": 1
        }
      ]
    },
    {
      "cell_type": "code",
      "metadata": {
        "colab": {
          "base_uri": "https://localhost:8080/"
        },
        "id": "HwYTFQe1iqL6",
        "outputId": "0522e075-f2ce-4d2c-a06f-b85d5454c61a"
      },
      "source": [
        "type(data)"
      ],
      "execution_count": 2,
      "outputs": [
        {
          "output_type": "execute_result",
          "data": {
            "text/plain": [
              "pandas.core.frame.DataFrame"
            ]
          },
          "metadata": {
            "tags": []
          },
          "execution_count": 2
        }
      ]
    },
    {
      "cell_type": "code",
      "metadata": {
        "colab": {
          "base_uri": "https://localhost:8080/"
        },
        "id": "rRpUlUDViu50",
        "outputId": "83e79df0-becc-4f6a-d925-d7fecc7719f9"
      },
      "source": [
        "\n",
        "data.shape"
      ],
      "execution_count": 3,
      "outputs": [
        {
          "output_type": "execute_result",
          "data": {
            "text/plain": [
              "(1436, 11)"
            ]
          },
          "metadata": {
            "tags": []
          },
          "execution_count": 3
        }
      ]
    },
    {
      "cell_type": "code",
      "metadata": {
        "colab": {
          "base_uri": "https://localhost:8080/"
        },
        "id": "kLD8FYjxi2VB",
        "outputId": "880af64c-8c01-43e8-b690-c072e48dad20"
      },
      "source": [
        "data.info()"
      ],
      "execution_count": 4,
      "outputs": [
        {
          "output_type": "stream",
          "text": [
            "<class 'pandas.core.frame.DataFrame'>\n",
            "RangeIndex: 1436 entries, 0 to 1435\n",
            "Data columns (total 11 columns):\n",
            " #   Column      Non-Null Count  Dtype  \n",
            "---  ------      --------------  -----  \n",
            " 0   Unnamed: 0  1436 non-null   int64  \n",
            " 1   Price       1436 non-null   int64  \n",
            " 2   Age         1336 non-null   float64\n",
            " 3   KM          1436 non-null   object \n",
            " 4   FuelType    1336 non-null   object \n",
            " 5   HP          1436 non-null   object \n",
            " 6   MetColor    1286 non-null   float64\n",
            " 7   Automatic   1436 non-null   int64  \n",
            " 8   CC          1436 non-null   int64  \n",
            " 9   Doors       1436 non-null   object \n",
            " 10  Weight      1436 non-null   int64  \n",
            "dtypes: float64(2), int64(5), object(4)\n",
            "memory usage: 123.5+ KB\n"
          ],
          "name": "stdout"
        }
      ]
    },
    {
      "cell_type": "code",
      "metadata": {
        "colab": {
          "base_uri": "https://localhost:8080/"
        },
        "id": "957ZA_bOi6q_",
        "outputId": "e7c64ea2-8980-4eee-f4cf-56c1e9e07808"
      },
      "source": [
        "data.index\n"
      ],
      "execution_count": 5,
      "outputs": [
        {
          "output_type": "execute_result",
          "data": {
            "text/plain": [
              "RangeIndex(start=0, stop=1436, step=1)"
            ]
          },
          "metadata": {
            "tags": []
          },
          "execution_count": 5
        }
      ]
    },
    {
      "cell_type": "code",
      "metadata": {
        "colab": {
          "base_uri": "https://localhost:8080/"
        },
        "id": "J6McwFdHjAgK",
        "outputId": "916ed139-9652-4c1d-b1a6-7285c5584a4a"
      },
      "source": [
        "\n",
        "data.columns"
      ],
      "execution_count": 6,
      "outputs": [
        {
          "output_type": "execute_result",
          "data": {
            "text/plain": [
              "Index(['Unnamed: 0', 'Price', 'Age', 'KM', 'FuelType', 'HP', 'MetColor',\n",
              "       'Automatic', 'CC', 'Doors', 'Weight'],\n",
              "      dtype='object')"
            ]
          },
          "metadata": {
            "tags": []
          },
          "execution_count": 6
        }
      ]
    },
    {
      "cell_type": "code",
      "metadata": {
        "colab": {
          "base_uri": "https://localhost:8080/",
          "height": 359
        },
        "id": "l28gv34ZjEE6",
        "outputId": "f845494b-5562-4b6d-e834-089ffca5a4df"
      },
      "source": [
        "data.head(10)"
      ],
      "execution_count": 7,
      "outputs": [
        {
          "output_type": "execute_result",
          "data": {
            "text/html": [
              "<div>\n",
              "<style scoped>\n",
              "    .dataframe tbody tr th:only-of-type {\n",
              "        vertical-align: middle;\n",
              "    }\n",
              "\n",
              "    .dataframe tbody tr th {\n",
              "        vertical-align: top;\n",
              "    }\n",
              "\n",
              "    .dataframe thead th {\n",
              "        text-align: right;\n",
              "    }\n",
              "</style>\n",
              "<table border=\"1\" class=\"dataframe\">\n",
              "  <thead>\n",
              "    <tr style=\"text-align: right;\">\n",
              "      <th></th>\n",
              "      <th>Unnamed: 0</th>\n",
              "      <th>Price</th>\n",
              "      <th>Age</th>\n",
              "      <th>KM</th>\n",
              "      <th>FuelType</th>\n",
              "      <th>HP</th>\n",
              "      <th>MetColor</th>\n",
              "      <th>Automatic</th>\n",
              "      <th>CC</th>\n",
              "      <th>Doors</th>\n",
              "      <th>Weight</th>\n",
              "    </tr>\n",
              "  </thead>\n",
              "  <tbody>\n",
              "    <tr>\n",
              "      <th>0</th>\n",
              "      <td>0</td>\n",
              "      <td>13500</td>\n",
              "      <td>23.0</td>\n",
              "      <td>46986</td>\n",
              "      <td>Diesel</td>\n",
              "      <td>90</td>\n",
              "      <td>1.0</td>\n",
              "      <td>0</td>\n",
              "      <td>2000</td>\n",
              "      <td>three</td>\n",
              "      <td>1165</td>\n",
              "    </tr>\n",
              "    <tr>\n",
              "      <th>1</th>\n",
              "      <td>1</td>\n",
              "      <td>13750</td>\n",
              "      <td>23.0</td>\n",
              "      <td>72937</td>\n",
              "      <td>Diesel</td>\n",
              "      <td>90</td>\n",
              "      <td>1.0</td>\n",
              "      <td>0</td>\n",
              "      <td>2000</td>\n",
              "      <td>3</td>\n",
              "      <td>1165</td>\n",
              "    </tr>\n",
              "    <tr>\n",
              "      <th>2</th>\n",
              "      <td>2</td>\n",
              "      <td>13950</td>\n",
              "      <td>24.0</td>\n",
              "      <td>41711</td>\n",
              "      <td>Diesel</td>\n",
              "      <td>90</td>\n",
              "      <td>NaN</td>\n",
              "      <td>0</td>\n",
              "      <td>2000</td>\n",
              "      <td>3</td>\n",
              "      <td>1165</td>\n",
              "    </tr>\n",
              "    <tr>\n",
              "      <th>3</th>\n",
              "      <td>3</td>\n",
              "      <td>14950</td>\n",
              "      <td>26.0</td>\n",
              "      <td>48000</td>\n",
              "      <td>Diesel</td>\n",
              "      <td>90</td>\n",
              "      <td>0.0</td>\n",
              "      <td>0</td>\n",
              "      <td>2000</td>\n",
              "      <td>3</td>\n",
              "      <td>1165</td>\n",
              "    </tr>\n",
              "    <tr>\n",
              "      <th>4</th>\n",
              "      <td>4</td>\n",
              "      <td>13750</td>\n",
              "      <td>30.0</td>\n",
              "      <td>38500</td>\n",
              "      <td>Diesel</td>\n",
              "      <td>90</td>\n",
              "      <td>0.0</td>\n",
              "      <td>0</td>\n",
              "      <td>2000</td>\n",
              "      <td>3</td>\n",
              "      <td>1170</td>\n",
              "    </tr>\n",
              "    <tr>\n",
              "      <th>5</th>\n",
              "      <td>5</td>\n",
              "      <td>12950</td>\n",
              "      <td>32.0</td>\n",
              "      <td>61000</td>\n",
              "      <td>Diesel</td>\n",
              "      <td>90</td>\n",
              "      <td>0.0</td>\n",
              "      <td>0</td>\n",
              "      <td>2000</td>\n",
              "      <td>3</td>\n",
              "      <td>1170</td>\n",
              "    </tr>\n",
              "    <tr>\n",
              "      <th>6</th>\n",
              "      <td>6</td>\n",
              "      <td>16900</td>\n",
              "      <td>27.0</td>\n",
              "      <td>??</td>\n",
              "      <td>Diesel</td>\n",
              "      <td>????</td>\n",
              "      <td>NaN</td>\n",
              "      <td>0</td>\n",
              "      <td>2000</td>\n",
              "      <td>3</td>\n",
              "      <td>1245</td>\n",
              "    </tr>\n",
              "    <tr>\n",
              "      <th>7</th>\n",
              "      <td>7</td>\n",
              "      <td>18600</td>\n",
              "      <td>30.0</td>\n",
              "      <td>75889</td>\n",
              "      <td>NaN</td>\n",
              "      <td>90</td>\n",
              "      <td>1.0</td>\n",
              "      <td>0</td>\n",
              "      <td>2000</td>\n",
              "      <td>3</td>\n",
              "      <td>1245</td>\n",
              "    </tr>\n",
              "    <tr>\n",
              "      <th>8</th>\n",
              "      <td>8</td>\n",
              "      <td>21500</td>\n",
              "      <td>27.0</td>\n",
              "      <td>19700</td>\n",
              "      <td>Petrol</td>\n",
              "      <td>192</td>\n",
              "      <td>0.0</td>\n",
              "      <td>0</td>\n",
              "      <td>1800</td>\n",
              "      <td>3</td>\n",
              "      <td>1185</td>\n",
              "    </tr>\n",
              "    <tr>\n",
              "      <th>9</th>\n",
              "      <td>9</td>\n",
              "      <td>12950</td>\n",
              "      <td>23.0</td>\n",
              "      <td>71138</td>\n",
              "      <td>Diesel</td>\n",
              "      <td>????</td>\n",
              "      <td>NaN</td>\n",
              "      <td>0</td>\n",
              "      <td>1900</td>\n",
              "      <td>3</td>\n",
              "      <td>1105</td>\n",
              "    </tr>\n",
              "  </tbody>\n",
              "</table>\n",
              "</div>"
            ],
            "text/plain": [
              "   Unnamed: 0  Price   Age     KM  ... Automatic    CC  Doors  Weight\n",
              "0           0  13500  23.0  46986  ...         0  2000  three    1165\n",
              "1           1  13750  23.0  72937  ...         0  2000      3    1165\n",
              "2           2  13950  24.0  41711  ...         0  2000      3    1165\n",
              "3           3  14950  26.0  48000  ...         0  2000      3    1165\n",
              "4           4  13750  30.0  38500  ...         0  2000      3    1170\n",
              "5           5  12950  32.0  61000  ...         0  2000      3    1170\n",
              "6           6  16900  27.0     ??  ...         0  2000      3    1245\n",
              "7           7  18600  30.0  75889  ...         0  2000      3    1245\n",
              "8           8  21500  27.0  19700  ...         0  1800      3    1185\n",
              "9           9  12950  23.0  71138  ...         0  1900      3    1105\n",
              "\n",
              "[10 rows x 11 columns]"
            ]
          },
          "metadata": {
            "tags": []
          },
          "execution_count": 7
        }
      ]
    },
    {
      "cell_type": "code",
      "metadata": {
        "colab": {
          "base_uri": "https://localhost:8080/",
          "height": 297
        },
        "id": "PWX-_8vQjPG-",
        "outputId": "73665b1b-2651-40d3-d9d2-ded22945531e"
      },
      "source": [
        "data.tail(8)"
      ],
      "execution_count": 8,
      "outputs": [
        {
          "output_type": "execute_result",
          "data": {
            "text/html": [
              "<div>\n",
              "<style scoped>\n",
              "    .dataframe tbody tr th:only-of-type {\n",
              "        vertical-align: middle;\n",
              "    }\n",
              "\n",
              "    .dataframe tbody tr th {\n",
              "        vertical-align: top;\n",
              "    }\n",
              "\n",
              "    .dataframe thead th {\n",
              "        text-align: right;\n",
              "    }\n",
              "</style>\n",
              "<table border=\"1\" class=\"dataframe\">\n",
              "  <thead>\n",
              "    <tr style=\"text-align: right;\">\n",
              "      <th></th>\n",
              "      <th>Unnamed: 0</th>\n",
              "      <th>Price</th>\n",
              "      <th>Age</th>\n",
              "      <th>KM</th>\n",
              "      <th>FuelType</th>\n",
              "      <th>HP</th>\n",
              "      <th>MetColor</th>\n",
              "      <th>Automatic</th>\n",
              "      <th>CC</th>\n",
              "      <th>Doors</th>\n",
              "      <th>Weight</th>\n",
              "    </tr>\n",
              "  </thead>\n",
              "  <tbody>\n",
              "    <tr>\n",
              "      <th>1428</th>\n",
              "      <td>1428</td>\n",
              "      <td>8450</td>\n",
              "      <td>72.0</td>\n",
              "      <td>??</td>\n",
              "      <td>Petrol</td>\n",
              "      <td>86</td>\n",
              "      <td>NaN</td>\n",
              "      <td>0</td>\n",
              "      <td>1300</td>\n",
              "      <td>3</td>\n",
              "      <td>1015</td>\n",
              "    </tr>\n",
              "    <tr>\n",
              "      <th>1429</th>\n",
              "      <td>1429</td>\n",
              "      <td>8950</td>\n",
              "      <td>78.0</td>\n",
              "      <td>24000</td>\n",
              "      <td>Petrol</td>\n",
              "      <td>86</td>\n",
              "      <td>1.0</td>\n",
              "      <td>1</td>\n",
              "      <td>1300</td>\n",
              "      <td>5</td>\n",
              "      <td>1065</td>\n",
              "    </tr>\n",
              "    <tr>\n",
              "      <th>1430</th>\n",
              "      <td>1430</td>\n",
              "      <td>8450</td>\n",
              "      <td>80.0</td>\n",
              "      <td>23000</td>\n",
              "      <td>Petrol</td>\n",
              "      <td>86</td>\n",
              "      <td>0.0</td>\n",
              "      <td>0</td>\n",
              "      <td>1300</td>\n",
              "      <td>3</td>\n",
              "      <td>1015</td>\n",
              "    </tr>\n",
              "    <tr>\n",
              "      <th>1431</th>\n",
              "      <td>1431</td>\n",
              "      <td>7500</td>\n",
              "      <td>NaN</td>\n",
              "      <td>20544</td>\n",
              "      <td>Petrol</td>\n",
              "      <td>86</td>\n",
              "      <td>1.0</td>\n",
              "      <td>0</td>\n",
              "      <td>1300</td>\n",
              "      <td>3</td>\n",
              "      <td>1025</td>\n",
              "    </tr>\n",
              "    <tr>\n",
              "      <th>1432</th>\n",
              "      <td>1432</td>\n",
              "      <td>10845</td>\n",
              "      <td>72.0</td>\n",
              "      <td>??</td>\n",
              "      <td>Petrol</td>\n",
              "      <td>86</td>\n",
              "      <td>0.0</td>\n",
              "      <td>0</td>\n",
              "      <td>1300</td>\n",
              "      <td>3</td>\n",
              "      <td>1015</td>\n",
              "    </tr>\n",
              "    <tr>\n",
              "      <th>1433</th>\n",
              "      <td>1433</td>\n",
              "      <td>8500</td>\n",
              "      <td>NaN</td>\n",
              "      <td>17016</td>\n",
              "      <td>Petrol</td>\n",
              "      <td>86</td>\n",
              "      <td>0.0</td>\n",
              "      <td>0</td>\n",
              "      <td>1300</td>\n",
              "      <td>3</td>\n",
              "      <td>1015</td>\n",
              "    </tr>\n",
              "    <tr>\n",
              "      <th>1434</th>\n",
              "      <td>1434</td>\n",
              "      <td>7250</td>\n",
              "      <td>70.0</td>\n",
              "      <td>??</td>\n",
              "      <td>NaN</td>\n",
              "      <td>86</td>\n",
              "      <td>1.0</td>\n",
              "      <td>0</td>\n",
              "      <td>1300</td>\n",
              "      <td>3</td>\n",
              "      <td>1015</td>\n",
              "    </tr>\n",
              "    <tr>\n",
              "      <th>1435</th>\n",
              "      <td>1435</td>\n",
              "      <td>6950</td>\n",
              "      <td>76.0</td>\n",
              "      <td>1</td>\n",
              "      <td>Petrol</td>\n",
              "      <td>110</td>\n",
              "      <td>0.0</td>\n",
              "      <td>0</td>\n",
              "      <td>1600</td>\n",
              "      <td>5</td>\n",
              "      <td>1114</td>\n",
              "    </tr>\n",
              "  </tbody>\n",
              "</table>\n",
              "</div>"
            ],
            "text/plain": [
              "      Unnamed: 0  Price   Age     KM  ... Automatic    CC  Doors  Weight\n",
              "1428        1428   8450  72.0     ??  ...         0  1300      3    1015\n",
              "1429        1429   8950  78.0  24000  ...         1  1300      5    1065\n",
              "1430        1430   8450  80.0  23000  ...         0  1300      3    1015\n",
              "1431        1431   7500   NaN  20544  ...         0  1300      3    1025\n",
              "1432        1432  10845  72.0     ??  ...         0  1300      3    1015\n",
              "1433        1433   8500   NaN  17016  ...         0  1300      3    1015\n",
              "1434        1434   7250  70.0     ??  ...         0  1300      3    1015\n",
              "1435        1435   6950  76.0      1  ...         0  1600      5    1114\n",
              "\n",
              "[8 rows x 11 columns]"
            ]
          },
          "metadata": {
            "tags": []
          },
          "execution_count": 8
        }
      ]
    },
    {
      "cell_type": "code",
      "metadata": {
        "colab": {
          "base_uri": "https://localhost:8080/",
          "height": 359
        },
        "id": "p--5km5_jVeb",
        "outputId": "b0dc6bf9-7e64-4aec-acef-8fa83958a71f"
      },
      "source": [
        "data[['Price',\"Age\"]].head(10)"
      ],
      "execution_count": 9,
      "outputs": [
        {
          "output_type": "execute_result",
          "data": {
            "text/html": [
              "<div>\n",
              "<style scoped>\n",
              "    .dataframe tbody tr th:only-of-type {\n",
              "        vertical-align: middle;\n",
              "    }\n",
              "\n",
              "    .dataframe tbody tr th {\n",
              "        vertical-align: top;\n",
              "    }\n",
              "\n",
              "    .dataframe thead th {\n",
              "        text-align: right;\n",
              "    }\n",
              "</style>\n",
              "<table border=\"1\" class=\"dataframe\">\n",
              "  <thead>\n",
              "    <tr style=\"text-align: right;\">\n",
              "      <th></th>\n",
              "      <th>Price</th>\n",
              "      <th>Age</th>\n",
              "    </tr>\n",
              "  </thead>\n",
              "  <tbody>\n",
              "    <tr>\n",
              "      <th>0</th>\n",
              "      <td>13500</td>\n",
              "      <td>23.0</td>\n",
              "    </tr>\n",
              "    <tr>\n",
              "      <th>1</th>\n",
              "      <td>13750</td>\n",
              "      <td>23.0</td>\n",
              "    </tr>\n",
              "    <tr>\n",
              "      <th>2</th>\n",
              "      <td>13950</td>\n",
              "      <td>24.0</td>\n",
              "    </tr>\n",
              "    <tr>\n",
              "      <th>3</th>\n",
              "      <td>14950</td>\n",
              "      <td>26.0</td>\n",
              "    </tr>\n",
              "    <tr>\n",
              "      <th>4</th>\n",
              "      <td>13750</td>\n",
              "      <td>30.0</td>\n",
              "    </tr>\n",
              "    <tr>\n",
              "      <th>5</th>\n",
              "      <td>12950</td>\n",
              "      <td>32.0</td>\n",
              "    </tr>\n",
              "    <tr>\n",
              "      <th>6</th>\n",
              "      <td>16900</td>\n",
              "      <td>27.0</td>\n",
              "    </tr>\n",
              "    <tr>\n",
              "      <th>7</th>\n",
              "      <td>18600</td>\n",
              "      <td>30.0</td>\n",
              "    </tr>\n",
              "    <tr>\n",
              "      <th>8</th>\n",
              "      <td>21500</td>\n",
              "      <td>27.0</td>\n",
              "    </tr>\n",
              "    <tr>\n",
              "      <th>9</th>\n",
              "      <td>12950</td>\n",
              "      <td>23.0</td>\n",
              "    </tr>\n",
              "  </tbody>\n",
              "</table>\n",
              "</div>"
            ],
            "text/plain": [
              "   Price   Age\n",
              "0  13500  23.0\n",
              "1  13750  23.0\n",
              "2  13950  24.0\n",
              "3  14950  26.0\n",
              "4  13750  30.0\n",
              "5  12950  32.0\n",
              "6  16900  27.0\n",
              "7  18600  30.0\n",
              "8  21500  27.0\n",
              "9  12950  23.0"
            ]
          },
          "metadata": {
            "tags": []
          },
          "execution_count": 9
        }
      ]
    },
    {
      "cell_type": "code",
      "metadata": {
        "colab": {
          "base_uri": "https://localhost:8080/"
        },
        "id": "AZLH5pmcjaRY",
        "outputId": "9ea16a9b-de64-456d-9dc5-fdbabcc44907"
      },
      "source": [
        "data.isnull().sum()"
      ],
      "execution_count": 10,
      "outputs": [
        {
          "output_type": "execute_result",
          "data": {
            "text/plain": [
              "Unnamed: 0      0\n",
              "Price           0\n",
              "Age           100\n",
              "KM              0\n",
              "FuelType      100\n",
              "HP              0\n",
              "MetColor      150\n",
              "Automatic       0\n",
              "CC              0\n",
              "Doors           0\n",
              "Weight          0\n",
              "dtype: int64"
            ]
          },
          "metadata": {
            "tags": []
          },
          "execution_count": 10
        }
      ]
    },
    {
      "cell_type": "code",
      "metadata": {
        "colab": {
          "base_uri": "https://localhost:8080/"
        },
        "id": "aMD2kCgkjehP",
        "outputId": "c62de03f-ce87-4598-9a87-f7b4f5618378"
      },
      "source": [
        "data.dropna(inplace=True)\n",
        "data.isnull().sum()"
      ],
      "execution_count": 11,
      "outputs": [
        {
          "output_type": "execute_result",
          "data": {
            "text/plain": [
              "Unnamed: 0    0\n",
              "Price         0\n",
              "Age           0\n",
              "KM            0\n",
              "FuelType      0\n",
              "HP            0\n",
              "MetColor      0\n",
              "Automatic     0\n",
              "CC            0\n",
              "Doors         0\n",
              "Weight        0\n",
              "dtype: int64"
            ]
          },
          "metadata": {
            "tags": []
          },
          "execution_count": 11
        }
      ]
    },
    {
      "cell_type": "code",
      "metadata": {
        "colab": {
          "base_uri": "https://localhost:8080/"
        },
        "id": "p2zzJGvVjjnA",
        "outputId": "0c4f68d7-c4c8-4d98-cb8b-84148c2b1b38"
      },
      "source": [
        "data.shape"
      ],
      "execution_count": 12,
      "outputs": [
        {
          "output_type": "execute_result",
          "data": {
            "text/plain": [
              "(1111, 11)"
            ]
          },
          "metadata": {
            "tags": []
          },
          "execution_count": 12
        }
      ]
    },
    {
      "cell_type": "code",
      "metadata": {
        "colab": {
          "base_uri": "https://localhost:8080/",
          "height": 235
        },
        "id": "zO8wsgo0jn06",
        "outputId": "7d31a4f8-b01f-4f2b-8dee-2cca27b5e4f2"
      },
      "source": [
        "data.head(6)"
      ],
      "execution_count": 13,
      "outputs": [
        {
          "output_type": "execute_result",
          "data": {
            "text/html": [
              "<div>\n",
              "<style scoped>\n",
              "    .dataframe tbody tr th:only-of-type {\n",
              "        vertical-align: middle;\n",
              "    }\n",
              "\n",
              "    .dataframe tbody tr th {\n",
              "        vertical-align: top;\n",
              "    }\n",
              "\n",
              "    .dataframe thead th {\n",
              "        text-align: right;\n",
              "    }\n",
              "</style>\n",
              "<table border=\"1\" class=\"dataframe\">\n",
              "  <thead>\n",
              "    <tr style=\"text-align: right;\">\n",
              "      <th></th>\n",
              "      <th>Unnamed: 0</th>\n",
              "      <th>Price</th>\n",
              "      <th>Age</th>\n",
              "      <th>KM</th>\n",
              "      <th>FuelType</th>\n",
              "      <th>HP</th>\n",
              "      <th>MetColor</th>\n",
              "      <th>Automatic</th>\n",
              "      <th>CC</th>\n",
              "      <th>Doors</th>\n",
              "      <th>Weight</th>\n",
              "    </tr>\n",
              "  </thead>\n",
              "  <tbody>\n",
              "    <tr>\n",
              "      <th>0</th>\n",
              "      <td>0</td>\n",
              "      <td>13500</td>\n",
              "      <td>23.0</td>\n",
              "      <td>46986</td>\n",
              "      <td>Diesel</td>\n",
              "      <td>90</td>\n",
              "      <td>1.0</td>\n",
              "      <td>0</td>\n",
              "      <td>2000</td>\n",
              "      <td>three</td>\n",
              "      <td>1165</td>\n",
              "    </tr>\n",
              "    <tr>\n",
              "      <th>1</th>\n",
              "      <td>1</td>\n",
              "      <td>13750</td>\n",
              "      <td>23.0</td>\n",
              "      <td>72937</td>\n",
              "      <td>Diesel</td>\n",
              "      <td>90</td>\n",
              "      <td>1.0</td>\n",
              "      <td>0</td>\n",
              "      <td>2000</td>\n",
              "      <td>3</td>\n",
              "      <td>1165</td>\n",
              "    </tr>\n",
              "    <tr>\n",
              "      <th>3</th>\n",
              "      <td>3</td>\n",
              "      <td>14950</td>\n",
              "      <td>26.0</td>\n",
              "      <td>48000</td>\n",
              "      <td>Diesel</td>\n",
              "      <td>90</td>\n",
              "      <td>0.0</td>\n",
              "      <td>0</td>\n",
              "      <td>2000</td>\n",
              "      <td>3</td>\n",
              "      <td>1165</td>\n",
              "    </tr>\n",
              "    <tr>\n",
              "      <th>4</th>\n",
              "      <td>4</td>\n",
              "      <td>13750</td>\n",
              "      <td>30.0</td>\n",
              "      <td>38500</td>\n",
              "      <td>Diesel</td>\n",
              "      <td>90</td>\n",
              "      <td>0.0</td>\n",
              "      <td>0</td>\n",
              "      <td>2000</td>\n",
              "      <td>3</td>\n",
              "      <td>1170</td>\n",
              "    </tr>\n",
              "    <tr>\n",
              "      <th>5</th>\n",
              "      <td>5</td>\n",
              "      <td>12950</td>\n",
              "      <td>32.0</td>\n",
              "      <td>61000</td>\n",
              "      <td>Diesel</td>\n",
              "      <td>90</td>\n",
              "      <td>0.0</td>\n",
              "      <td>0</td>\n",
              "      <td>2000</td>\n",
              "      <td>3</td>\n",
              "      <td>1170</td>\n",
              "    </tr>\n",
              "    <tr>\n",
              "      <th>8</th>\n",
              "      <td>8</td>\n",
              "      <td>21500</td>\n",
              "      <td>27.0</td>\n",
              "      <td>19700</td>\n",
              "      <td>Petrol</td>\n",
              "      <td>192</td>\n",
              "      <td>0.0</td>\n",
              "      <td>0</td>\n",
              "      <td>1800</td>\n",
              "      <td>3</td>\n",
              "      <td>1185</td>\n",
              "    </tr>\n",
              "  </tbody>\n",
              "</table>\n",
              "</div>"
            ],
            "text/plain": [
              "   Unnamed: 0  Price   Age     KM  ... Automatic    CC  Doors  Weight\n",
              "0           0  13500  23.0  46986  ...         0  2000  three    1165\n",
              "1           1  13750  23.0  72937  ...         0  2000      3    1165\n",
              "3           3  14950  26.0  48000  ...         0  2000      3    1165\n",
              "4           4  13750  30.0  38500  ...         0  2000      3    1170\n",
              "5           5  12950  32.0  61000  ...         0  2000      3    1170\n",
              "8           8  21500  27.0  19700  ...         0  1800      3    1185\n",
              "\n",
              "[6 rows x 11 columns]"
            ]
          },
          "metadata": {
            "tags": []
          },
          "execution_count": 13
        }
      ]
    },
    {
      "cell_type": "code",
      "metadata": {
        "colab": {
          "base_uri": "https://localhost:8080/"
        },
        "id": "ejfdKZeRjrco",
        "outputId": "1608d53f-6dbd-47e1-bbe6-133a70b22e62"
      },
      "source": [
        "\n",
        "data['MetColor'].mean()"
      ],
      "execution_count": 14,
      "outputs": [
        {
          "output_type": "execute_result",
          "data": {
            "text/plain": [
              "0.6750675067506751"
            ]
          },
          "metadata": {
            "tags": []
          },
          "execution_count": 14
        }
      ]
    },
    {
      "cell_type": "code",
      "metadata": {
        "colab": {
          "base_uri": "https://localhost:8080/"
        },
        "id": "kNLJuK0fjv1N",
        "outputId": "1aa83207-3213-4f67-97ca-950066c5f6d7"
      },
      "source": [
        "\n",
        "data['MetColor'].head()"
      ],
      "execution_count": 15,
      "outputs": [
        {
          "output_type": "execute_result",
          "data": {
            "text/plain": [
              "0    1.0\n",
              "1    1.0\n",
              "3    0.0\n",
              "4    0.0\n",
              "5    0.0\n",
              "Name: MetColor, dtype: float64"
            ]
          },
          "metadata": {
            "tags": []
          },
          "execution_count": 15
        }
      ]
    },
    {
      "cell_type": "code",
      "metadata": {
        "colab": {
          "base_uri": "https://localhost:8080/"
        },
        "id": "kpPK_B6Qj0zp",
        "outputId": "0dd6190c-f1ad-422c-c694-6ebac0421ffd"
      },
      "source": [
        "import numpy as np\n",
        "data['MetColor'].replace(np.NaN,data['MetColor'].mean()).head()"
      ],
      "execution_count": 16,
      "outputs": [
        {
          "output_type": "execute_result",
          "data": {
            "text/plain": [
              "0    1.0\n",
              "1    1.0\n",
              "3    0.0\n",
              "4    0.0\n",
              "5    0.0\n",
              "Name: MetColor, dtype: float64"
            ]
          },
          "metadata": {
            "tags": []
          },
          "execution_count": 16
        }
      ]
    },
    {
      "cell_type": "code",
      "metadata": {
        "colab": {
          "base_uri": "https://localhost:8080/",
          "height": 359
        },
        "id": "gITHi41ij6Vg",
        "outputId": "97201e60-11d8-49f8-d4bf-6e1e08179f55"
      },
      "source": [
        "\n",
        "data.head(10)"
      ],
      "execution_count": 17,
      "outputs": [
        {
          "output_type": "execute_result",
          "data": {
            "text/html": [
              "<div>\n",
              "<style scoped>\n",
              "    .dataframe tbody tr th:only-of-type {\n",
              "        vertical-align: middle;\n",
              "    }\n",
              "\n",
              "    .dataframe tbody tr th {\n",
              "        vertical-align: top;\n",
              "    }\n",
              "\n",
              "    .dataframe thead th {\n",
              "        text-align: right;\n",
              "    }\n",
              "</style>\n",
              "<table border=\"1\" class=\"dataframe\">\n",
              "  <thead>\n",
              "    <tr style=\"text-align: right;\">\n",
              "      <th></th>\n",
              "      <th>Unnamed: 0</th>\n",
              "      <th>Price</th>\n",
              "      <th>Age</th>\n",
              "      <th>KM</th>\n",
              "      <th>FuelType</th>\n",
              "      <th>HP</th>\n",
              "      <th>MetColor</th>\n",
              "      <th>Automatic</th>\n",
              "      <th>CC</th>\n",
              "      <th>Doors</th>\n",
              "      <th>Weight</th>\n",
              "    </tr>\n",
              "  </thead>\n",
              "  <tbody>\n",
              "    <tr>\n",
              "      <th>0</th>\n",
              "      <td>0</td>\n",
              "      <td>13500</td>\n",
              "      <td>23.0</td>\n",
              "      <td>46986</td>\n",
              "      <td>Diesel</td>\n",
              "      <td>90</td>\n",
              "      <td>1.0</td>\n",
              "      <td>0</td>\n",
              "      <td>2000</td>\n",
              "      <td>three</td>\n",
              "      <td>1165</td>\n",
              "    </tr>\n",
              "    <tr>\n",
              "      <th>1</th>\n",
              "      <td>1</td>\n",
              "      <td>13750</td>\n",
              "      <td>23.0</td>\n",
              "      <td>72937</td>\n",
              "      <td>Diesel</td>\n",
              "      <td>90</td>\n",
              "      <td>1.0</td>\n",
              "      <td>0</td>\n",
              "      <td>2000</td>\n",
              "      <td>3</td>\n",
              "      <td>1165</td>\n",
              "    </tr>\n",
              "    <tr>\n",
              "      <th>3</th>\n",
              "      <td>3</td>\n",
              "      <td>14950</td>\n",
              "      <td>26.0</td>\n",
              "      <td>48000</td>\n",
              "      <td>Diesel</td>\n",
              "      <td>90</td>\n",
              "      <td>0.0</td>\n",
              "      <td>0</td>\n",
              "      <td>2000</td>\n",
              "      <td>3</td>\n",
              "      <td>1165</td>\n",
              "    </tr>\n",
              "    <tr>\n",
              "      <th>4</th>\n",
              "      <td>4</td>\n",
              "      <td>13750</td>\n",
              "      <td>30.0</td>\n",
              "      <td>38500</td>\n",
              "      <td>Diesel</td>\n",
              "      <td>90</td>\n",
              "      <td>0.0</td>\n",
              "      <td>0</td>\n",
              "      <td>2000</td>\n",
              "      <td>3</td>\n",
              "      <td>1170</td>\n",
              "    </tr>\n",
              "    <tr>\n",
              "      <th>5</th>\n",
              "      <td>5</td>\n",
              "      <td>12950</td>\n",
              "      <td>32.0</td>\n",
              "      <td>61000</td>\n",
              "      <td>Diesel</td>\n",
              "      <td>90</td>\n",
              "      <td>0.0</td>\n",
              "      <td>0</td>\n",
              "      <td>2000</td>\n",
              "      <td>3</td>\n",
              "      <td>1170</td>\n",
              "    </tr>\n",
              "    <tr>\n",
              "      <th>8</th>\n",
              "      <td>8</td>\n",
              "      <td>21500</td>\n",
              "      <td>27.0</td>\n",
              "      <td>19700</td>\n",
              "      <td>Petrol</td>\n",
              "      <td>192</td>\n",
              "      <td>0.0</td>\n",
              "      <td>0</td>\n",
              "      <td>1800</td>\n",
              "      <td>3</td>\n",
              "      <td>1185</td>\n",
              "    </tr>\n",
              "    <tr>\n",
              "      <th>10</th>\n",
              "      <td>10</td>\n",
              "      <td>20950</td>\n",
              "      <td>25.0</td>\n",
              "      <td>31461</td>\n",
              "      <td>Petrol</td>\n",
              "      <td>192</td>\n",
              "      <td>0.0</td>\n",
              "      <td>0</td>\n",
              "      <td>1800</td>\n",
              "      <td>3</td>\n",
              "      <td>1185</td>\n",
              "    </tr>\n",
              "    <tr>\n",
              "      <th>11</th>\n",
              "      <td>11</td>\n",
              "      <td>19950</td>\n",
              "      <td>22.0</td>\n",
              "      <td>43610</td>\n",
              "      <td>Petrol</td>\n",
              "      <td>192</td>\n",
              "      <td>0.0</td>\n",
              "      <td>0</td>\n",
              "      <td>1800</td>\n",
              "      <td>3</td>\n",
              "      <td>1185</td>\n",
              "    </tr>\n",
              "    <tr>\n",
              "      <th>12</th>\n",
              "      <td>12</td>\n",
              "      <td>19600</td>\n",
              "      <td>25.0</td>\n",
              "      <td>32189</td>\n",
              "      <td>Petrol</td>\n",
              "      <td>192</td>\n",
              "      <td>0.0</td>\n",
              "      <td>0</td>\n",
              "      <td>1800</td>\n",
              "      <td>3</td>\n",
              "      <td>1185</td>\n",
              "    </tr>\n",
              "    <tr>\n",
              "      <th>13</th>\n",
              "      <td>13</td>\n",
              "      <td>21500</td>\n",
              "      <td>31.0</td>\n",
              "      <td>23000</td>\n",
              "      <td>Petrol</td>\n",
              "      <td>192</td>\n",
              "      <td>1.0</td>\n",
              "      <td>0</td>\n",
              "      <td>1800</td>\n",
              "      <td>3</td>\n",
              "      <td>1185</td>\n",
              "    </tr>\n",
              "  </tbody>\n",
              "</table>\n",
              "</div>"
            ],
            "text/plain": [
              "    Unnamed: 0  Price   Age     KM  ... Automatic    CC  Doors  Weight\n",
              "0            0  13500  23.0  46986  ...         0  2000  three    1165\n",
              "1            1  13750  23.0  72937  ...         0  2000      3    1165\n",
              "3            3  14950  26.0  48000  ...         0  2000      3    1165\n",
              "4            4  13750  30.0  38500  ...         0  2000      3    1170\n",
              "5            5  12950  32.0  61000  ...         0  2000      3    1170\n",
              "8            8  21500  27.0  19700  ...         0  1800      3    1185\n",
              "10          10  20950  25.0  31461  ...         0  1800      3    1185\n",
              "11          11  19950  22.0  43610  ...         0  1800      3    1185\n",
              "12          12  19600  25.0  32189  ...         0  1800      3    1185\n",
              "13          13  21500  31.0  23000  ...         0  1800      3    1185\n",
              "\n",
              "[10 rows x 11 columns]"
            ]
          },
          "metadata": {
            "tags": []
          },
          "execution_count": 17
        }
      ]
    },
    {
      "cell_type": "code",
      "metadata": {
        "colab": {
          "base_uri": "https://localhost:8080/"
        },
        "id": "NWKYucjEj_D5",
        "outputId": "56b3be3b-e4f5-49f9-d5a9-0c53cb02070d"
      },
      "source": [
        "data['CC'].mean()"
      ],
      "execution_count": 18,
      "outputs": [
        {
          "output_type": "execute_result",
          "data": {
            "text/plain": [
              "1569.4635463546354"
            ]
          },
          "metadata": {
            "tags": []
          },
          "execution_count": 18
        }
      ]
    },
    {
      "cell_type": "code",
      "metadata": {
        "colab": {
          "base_uri": "https://localhost:8080/"
        },
        "id": "ymuuq7QkkE0w",
        "outputId": "06740ea8-eb61-4e92-9155-87453ca6906d"
      },
      "source": [
        "\n",
        "data['CC'].head()"
      ],
      "execution_count": 19,
      "outputs": [
        {
          "output_type": "execute_result",
          "data": {
            "text/plain": [
              "0    2000\n",
              "1    2000\n",
              "3    2000\n",
              "4    2000\n",
              "5    2000\n",
              "Name: CC, dtype: int64"
            ]
          },
          "metadata": {
            "tags": []
          },
          "execution_count": 19
        }
      ]
    },
    {
      "cell_type": "code",
      "metadata": {
        "colab": {
          "base_uri": "https://localhost:8080/",
          "height": 669
        },
        "id": "d2nhOVQykIqX",
        "outputId": "1436059a-9895-4bd9-c938-a5607c72a960"
      },
      "source": [
        "data[['Age',\"KM\"]].head(20)"
      ],
      "execution_count": 20,
      "outputs": [
        {
          "output_type": "execute_result",
          "data": {
            "text/html": [
              "<div>\n",
              "<style scoped>\n",
              "    .dataframe tbody tr th:only-of-type {\n",
              "        vertical-align: middle;\n",
              "    }\n",
              "\n",
              "    .dataframe tbody tr th {\n",
              "        vertical-align: top;\n",
              "    }\n",
              "\n",
              "    .dataframe thead th {\n",
              "        text-align: right;\n",
              "    }\n",
              "</style>\n",
              "<table border=\"1\" class=\"dataframe\">\n",
              "  <thead>\n",
              "    <tr style=\"text-align: right;\">\n",
              "      <th></th>\n",
              "      <th>Age</th>\n",
              "      <th>KM</th>\n",
              "    </tr>\n",
              "  </thead>\n",
              "  <tbody>\n",
              "    <tr>\n",
              "      <th>0</th>\n",
              "      <td>23.0</td>\n",
              "      <td>46986</td>\n",
              "    </tr>\n",
              "    <tr>\n",
              "      <th>1</th>\n",
              "      <td>23.0</td>\n",
              "      <td>72937</td>\n",
              "    </tr>\n",
              "    <tr>\n",
              "      <th>3</th>\n",
              "      <td>26.0</td>\n",
              "      <td>48000</td>\n",
              "    </tr>\n",
              "    <tr>\n",
              "      <th>4</th>\n",
              "      <td>30.0</td>\n",
              "      <td>38500</td>\n",
              "    </tr>\n",
              "    <tr>\n",
              "      <th>5</th>\n",
              "      <td>32.0</td>\n",
              "      <td>61000</td>\n",
              "    </tr>\n",
              "    <tr>\n",
              "      <th>8</th>\n",
              "      <td>27.0</td>\n",
              "      <td>19700</td>\n",
              "    </tr>\n",
              "    <tr>\n",
              "      <th>10</th>\n",
              "      <td>25.0</td>\n",
              "      <td>31461</td>\n",
              "    </tr>\n",
              "    <tr>\n",
              "      <th>11</th>\n",
              "      <td>22.0</td>\n",
              "      <td>43610</td>\n",
              "    </tr>\n",
              "    <tr>\n",
              "      <th>12</th>\n",
              "      <td>25.0</td>\n",
              "      <td>32189</td>\n",
              "    </tr>\n",
              "    <tr>\n",
              "      <th>13</th>\n",
              "      <td>31.0</td>\n",
              "      <td>23000</td>\n",
              "    </tr>\n",
              "    <tr>\n",
              "      <th>14</th>\n",
              "      <td>32.0</td>\n",
              "      <td>34131</td>\n",
              "    </tr>\n",
              "    <tr>\n",
              "      <th>15</th>\n",
              "      <td>28.0</td>\n",
              "      <td>18739</td>\n",
              "    </tr>\n",
              "    <tr>\n",
              "      <th>16</th>\n",
              "      <td>30.0</td>\n",
              "      <td>34000</td>\n",
              "    </tr>\n",
              "    <tr>\n",
              "      <th>17</th>\n",
              "      <td>24.0</td>\n",
              "      <td>21716</td>\n",
              "    </tr>\n",
              "    <tr>\n",
              "      <th>18</th>\n",
              "      <td>24.0</td>\n",
              "      <td>25563</td>\n",
              "    </tr>\n",
              "    <tr>\n",
              "      <th>19</th>\n",
              "      <td>30.0</td>\n",
              "      <td>64359</td>\n",
              "    </tr>\n",
              "    <tr>\n",
              "      <th>20</th>\n",
              "      <td>30.0</td>\n",
              "      <td>67660</td>\n",
              "    </tr>\n",
              "    <tr>\n",
              "      <th>22</th>\n",
              "      <td>28.0</td>\n",
              "      <td>56349</td>\n",
              "    </tr>\n",
              "    <tr>\n",
              "      <th>23</th>\n",
              "      <td>28.0</td>\n",
              "      <td>32220</td>\n",
              "    </tr>\n",
              "    <tr>\n",
              "      <th>24</th>\n",
              "      <td>29.0</td>\n",
              "      <td>25813</td>\n",
              "    </tr>\n",
              "  </tbody>\n",
              "</table>\n",
              "</div>"
            ],
            "text/plain": [
              "     Age     KM\n",
              "0   23.0  46986\n",
              "1   23.0  72937\n",
              "3   26.0  48000\n",
              "4   30.0  38500\n",
              "5   32.0  61000\n",
              "8   27.0  19700\n",
              "10  25.0  31461\n",
              "11  22.0  43610\n",
              "12  25.0  32189\n",
              "13  31.0  23000\n",
              "14  32.0  34131\n",
              "15  28.0  18739\n",
              "16  30.0  34000\n",
              "17  24.0  21716\n",
              "18  24.0  25563\n",
              "19  30.0  64359\n",
              "20  30.0  67660\n",
              "22  28.0  56349\n",
              "23  28.0  32220\n",
              "24  29.0  25813"
            ]
          },
          "metadata": {
            "tags": []
          },
          "execution_count": 20
        }
      ]
    },
    {
      "cell_type": "code",
      "metadata": {
        "id": "IqYXR4v3ka1R"
      },
      "source": [
        ""
      ],
      "execution_count": null,
      "outputs": []
    }
  ]
}