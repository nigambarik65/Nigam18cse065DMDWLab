{
  "nbformat": 4,
  "nbformat_minor": 0,
  "metadata": {
    "colab": {
      "name": "Assignment1.ipynb",
      "provenance": [],
      "authorship_tag": "ABX9TyP1102MTivOX5r5ablsmquz",
      "include_colab_link": true
    },
    "kernelspec": {
      "display_name": "Python 3",
      "name": "python3"
    },
    "language_info": {
      "name": "python"
    }
  },
  "cells": [
    {
      "cell_type": "markdown",
      "metadata": {
        "id": "view-in-github",
        "colab_type": "text"
      },
      "source": [
        "<a href=\"https://colab.research.google.com/github/nigambarik65/Nigam18cse065DMDWLab/blob/main/Assignment1.ipynb\" target=\"_parent\"><img src=\"https://colab.research.google.com/assets/colab-badge.svg\" alt=\"Open In Colab\"/></a>"
      ]
    },
    {
      "cell_type": "code",
      "metadata": {
        "colab": {
          "base_uri": "https://localhost:8080/"
        },
        "id": "BHkawpz3Q6HF",
        "outputId": "f1625c1c-085d-4c62-a9e4-52a31719576b"
      },
      "source": [
        "list1=[]\n",
        "n=int(input(\"enter the no of elements\"))\n",
        "for i in range(0,n):\n",
        "  ele=int(input())\n",
        "  list1.append(ele)"
      ],
      "execution_count": 2,
      "outputs": [
        {
          "output_type": "stream",
          "text": [
            "enter the no of elements2\n",
            "45\n",
            "20\n"
          ],
          "name": "stdout"
        }
      ]
    },
    {
      "cell_type": "markdown",
      "metadata": {
        "id": "g4KovOlNZT1D"
      },
      "source": [
        ""
      ]
    },
    {
      "cell_type": "code",
      "metadata": {
        "colab": {
          "base_uri": "https://localhost:8080/"
        },
        "id": "w12-gyFZUUXq",
        "outputId": "54978b77-ebff-4160-a588-9714dd659a62"
      },
      "source": [
        "num_sum=sum(list1)\n",
        "mean=num_sum/len(list1)\n",
        "print(list1)\n",
        "print(\"mean of the list:\"+str(round(mean)))"
      ],
      "execution_count": 4,
      "outputs": [
        {
          "output_type": "stream",
          "text": [
            "[45, 20]\n",
            "mean of the list:32\n"
          ],
          "name": "stdout"
        }
      ]
    },
    {
      "cell_type": "code",
      "metadata": {
        "colab": {
          "base_uri": "https://localhost:8080/"
        },
        "id": "36ZV9AA7ZPBW",
        "outputId": "827c9964-226a-4284-ada0-0681964b0ec2"
      },
      "source": [
        "list1.sort()\n",
        "if len(list1) %2==0:\n",
        "  first_median=list1[len(list1)//2]\n",
        "  second_median=list1[len(list1)//2 - 1]\n",
        "  median=(first_median+second_median)/2\n",
        "else:\n",
        "  median=list1[len(list1)//2]\n",
        "print(list1)\n",
        "print(\"median of the list\"+str(median))"
      ],
      "execution_count": 5,
      "outputs": [
        {
          "output_type": "stream",
          "text": [
            "[20, 45]\n",
            "median of the list32.5\n"
          ],
          "name": "stdout"
        }
      ]
    },
    {
      "cell_type": "code",
      "metadata": {
        "id": "vEyMkF3zZ5mt",
        "outputId": "fa20f90e-2fd9-4cdf-986b-d86e02b9f802",
        "colab": {
          "base_uri": "https://localhost:8080/"
        }
      },
      "source": [
        "\n",
        "l1=[] \n",
        "    \n",
        "j = 0\n",
        "while j < len(list1) : \n",
        "    l1.append(list1.count(list1[j])) \n",
        "    j += 1\n",
        "  \n",
        "d1 = dict(zip(list1, l1)) \n",
        "  \n",
        "d2={k for (k,v) in d1.items() if v == max(l1) } \n",
        "  \n",
        "print(\"Mode(s) is/are :\" + str(d2))"
      ],
      "execution_count": 6,
      "outputs": [
        {
          "output_type": "stream",
          "text": [
            "Mode(s) is/are :{20, 45}\n"
          ],
          "name": "stdout"
        }
      ]
    },
    {
      "cell_type": "code",
      "metadata": {
        "id": "KfHFBTMgaF--",
        "outputId": "7a4cf03c-986d-4073-bfc6-d5ab22ec71ba",
        "colab": {
          "base_uri": "https://localhost:8080/",
          "height": 486
        }
      },
      "source": [
        "\n",
        "import statistics\n",
        "list1=[]\n",
        "n=int(input(\"Enter number of elements you want in yor list:-\"))\n",
        "for i in range(0,n):\n",
        "  ele=int(input())\n",
        "  list1.append(ele)\n",
        "print(\"Entered values in the list:\", str(list1))\n",
        "\n",
        "#finding out mean\n",
        "\n",
        "print(statistics.mean(list1))\n",
        "\n",
        "#finding out median\n",
        "\n",
        "print(statistics.median(list1))\n",
        "\n",
        "#finding out mode\n",
        "\"\"\"it will show only for unique highest count\"\"\"\n",
        "print(statistics.mode(list1))\n",
        "\n",
        "print(statistics.multimode(list1))"
      ],
      "execution_count": 7,
      "outputs": [
        {
          "output_type": "stream",
          "text": [
            "Enter number of elements you want in yor list:-4\n",
            "25\n",
            "30\n",
            "62\n",
            "41\n",
            "Entered values in the list: [25, 30, 62, 41]\n",
            "39.5\n",
            "35.5\n"
          ],
          "name": "stdout"
        },
        {
          "output_type": "error",
          "ename": "StatisticsError",
          "evalue": "ignored",
          "traceback": [
            "\u001b[0;31m---------------------------------------------------------------------------\u001b[0m",
            "\u001b[0;31mStatisticsError\u001b[0m                           Traceback (most recent call last)",
            "\u001b[0;32m<ipython-input-7-49a34ca3b700>\u001b[0m in \u001b[0;36m<module>\u001b[0;34m()\u001b[0m\n\u001b[1;32m     18\u001b[0m \u001b[0;31m#finding out mode\u001b[0m\u001b[0;34m\u001b[0m\u001b[0;34m\u001b[0m\u001b[0;34m\u001b[0m\u001b[0m\n\u001b[1;32m     19\u001b[0m \u001b[0;34m\"\"\"it will show only for unique highest count\"\"\"\u001b[0m\u001b[0;34m\u001b[0m\u001b[0;34m\u001b[0m\u001b[0m\n\u001b[0;32m---> 20\u001b[0;31m \u001b[0mprint\u001b[0m\u001b[0;34m(\u001b[0m\u001b[0mstatistics\u001b[0m\u001b[0;34m.\u001b[0m\u001b[0mmode\u001b[0m\u001b[0;34m(\u001b[0m\u001b[0mlist1\u001b[0m\u001b[0;34m)\u001b[0m\u001b[0;34m)\u001b[0m\u001b[0;34m\u001b[0m\u001b[0;34m\u001b[0m\u001b[0m\n\u001b[0m\u001b[1;32m     21\u001b[0m \u001b[0;34m\u001b[0m\u001b[0m\n\u001b[1;32m     22\u001b[0m \u001b[0mprint\u001b[0m\u001b[0;34m(\u001b[0m\u001b[0mstatistics\u001b[0m\u001b[0;34m.\u001b[0m\u001b[0mmultimode\u001b[0m\u001b[0;34m(\u001b[0m\u001b[0mlist1\u001b[0m\u001b[0;34m)\u001b[0m\u001b[0;34m)\u001b[0m\u001b[0;34m\u001b[0m\u001b[0;34m\u001b[0m\u001b[0m\n",
            "\u001b[0;32m/usr/lib/python3.7/statistics.py\u001b[0m in \u001b[0;36mmode\u001b[0;34m(data)\u001b[0m\n\u001b[1;32m    504\u001b[0m     \u001b[0;32melif\u001b[0m \u001b[0mtable\u001b[0m\u001b[0;34m:\u001b[0m\u001b[0;34m\u001b[0m\u001b[0;34m\u001b[0m\u001b[0m\n\u001b[1;32m    505\u001b[0m         raise StatisticsError(\n\u001b[0;32m--> 506\u001b[0;31m                 \u001b[0;34m'no unique mode; found %d equally common values'\u001b[0m \u001b[0;34m%\u001b[0m \u001b[0mlen\u001b[0m\u001b[0;34m(\u001b[0m\u001b[0mtable\u001b[0m\u001b[0;34m)\u001b[0m\u001b[0;34m\u001b[0m\u001b[0;34m\u001b[0m\u001b[0m\n\u001b[0m\u001b[1;32m    507\u001b[0m                 )\n\u001b[1;32m    508\u001b[0m     \u001b[0;32melse\u001b[0m\u001b[0;34m:\u001b[0m\u001b[0;34m\u001b[0m\u001b[0;34m\u001b[0m\u001b[0m\n",
            "\u001b[0;31mStatisticsError\u001b[0m: no unique mode; found 4 equally common values"
          ]
        }
      ]
    },
    {
      "cell_type": "code",
      "metadata": {
        "id": "_seQUbSnaVLy",
        "outputId": "f0227466-c399-409f-c531-581e892b0c54",
        "colab": {
          "base_uri": "https://localhost:8080/"
        }
      },
      "source": [
        "\n",
        "list1=[]\n",
        "n=int(input(\"Enter number of elements you want in yor list:-\"))\n",
        "for i in range(0,n):\n",
        "  elmnt=int(input())\n",
        "  list1.append(elmnt)\n",
        "\n",
        "#for finding the variance\n",
        "\n",
        "ddof=0\n",
        "ddof1=1\n",
        "n = len(list1)\n",
        "mean = sum(list1) / n\n",
        "s1=sum((x - mean) ** 2 for x in list1) / (n - ddof)\n",
        "s2=sum((x - mean) ** 2 for x in list1) / (n - ddof1)\n",
        "print(list1)\n",
        "print(\"Variance of the given values:\",s1)\n",
        "print(\"Estimation value for Variance of the given values:\",s2)\n",
        "\n",
        "#for finding the standard deviation\n",
        "\n",
        "var = s1\n",
        "var1 = s2\n",
        "stand_dev = (var)**(1/2)\n",
        "stand_dev1 = (var1)**(1/2)\n",
        "print(\"Standard Deviation of the given values:\",stand_dev)\n",
        "print(\"Estimation value for Standard Deviation of the given values:\",stand_dev1)"
      ],
      "execution_count": 10,
      "outputs": [
        {
          "output_type": "stream",
          "text": [
            "Enter number of elements you want in yor list:-4\n",
            "36\n",
            "25\n",
            "68\n",
            "52\n",
            "[36, 25, 68, 52]\n",
            "Variance of the given values: 264.6875\n",
            "Estimation value for Variance of the given values: 352.9166666666667\n",
            "Standard Deviation of the given values: 16.269219403523945\n",
            "Estimation value for Standard Deviation of the given values: 18.786076404259266\n"
          ],
          "name": "stdout"
        }
      ]
    },
    {
      "cell_type": "code",
      "metadata": {
        "id": "sJUOmOfSamYJ",
        "outputId": "511ccf4d-dc15-46b2-8986-66e9bc68068c",
        "colab": {
          "base_uri": "https://localhost:8080/"
        }
      },
      "source": [
        "import statistics\n",
        "\n",
        "list1=[]\n",
        "n=int(input(\"Enter number of elements you want in yor list:-\"))\n",
        "for i in range(0,n):\n",
        "  elmnt=int(input())\n",
        "  list1.append(elmnt)\n",
        "print(list1)\n",
        "\n",
        "print(\"Variance of the given values:\",statistics.pvariance(list1))\n",
        "\n",
        "print(\"Estimation value for Variance of the given values:\",statistics.variance(list1))\n",
        "\n",
        "print(\"Standard Deviation of the given values:\",statistics.pstdev(list1))\n",
        "\n",
        "print(\"Estimation value for Standard Deviation of the given values:\",statistics.stdev(list1))"
      ],
      "execution_count": 11,
      "outputs": [
        {
          "output_type": "stream",
          "text": [
            "Enter number of elements you want in yor list:-4\n",
            "12\n",
            "69\n",
            "86\n",
            "35\n",
            "[12, 69, 86, 35]\n",
            "Variance of the given values: 831.25\n",
            "Estimation value for Variance of the given values: 1108.3333333333333\n",
            "Standard Deviation of the given values: 28.83140648667699\n",
            "Estimation value for Standard Deviation of the given values: 33.291640592396966\n"
          ],
          "name": "stdout"
        }
      ]
    },
    {
      "cell_type": "code",
      "metadata": {
        "id": "C_Tkld4Za4nl",
        "outputId": "5e18a409-7957-4809-e14d-69893d21d48c",
        "colab": {
          "base_uri": "https://localhost:8080/"
        }
      },
      "source": [
        "def listex():\n",
        "  l1=[1,10,\"Madhu\",\"Raju\"]\n",
        "  print(\"length\",len(l1))\n",
        "  l1.append(56)\n",
        "  l2=[5,6,99,1,10,20]\n",
        "  l2.sort()\n",
        "  print(\"Sorting:\",l2)\n",
        "  l2.remove(6)\n",
        "  print(\"Remove the element 6:\",l2)\n",
        "  del l1[1]\n",
        "  print(\"Delete 1st index\",l1)\n",
        "  l1.insert(2,999)\n",
        "  print(\"Insert a value at 2nd Index\",l1)\n",
        "  print(\"count:\",l1.count('Madhu'))\n",
        "  l2=[10,20,30]\n",
        "  print(\"merging l1,l2\",l1+l2)\n",
        "  str=\"Hai\"\n",
        "  print(\"Hello\"+str)\n",
        "  print(\"Multiplying:\",l1*3)\n",
        "  if 10 in l1:\n",
        "    print(\"The value is available\")\n",
        "  else:\n",
        "    print(\"Value not available\")\n",
        "  if 10 not in l1:\n",
        "    print(\"The value is not available\")\n",
        "  else:\n",
        "    print(\"The value is available\")\n",
        "listex()\n",
        "\n",
        "def listex1():\n",
        "    l11=[1,10,\"Madhu\",\"Raju\"]\n",
        "    rl=[]\n",
        "    for j in l11[::-1]:\n",
        "        rl.append(j)\n",
        "    print(rl)\n",
        "    l11.reverse()\n",
        "    print(l11)\n",
        "listex1()\n",
        "def listex2():\n",
        "    l22=[1,1,2,3,4,5,6,7,8,7,7,6]\n",
        "    l=[]\n",
        "    for k in l22:\n",
        "        if k not in l:\n",
        "            l.append(k)\n",
        "    print(l)\n",
        "listex2()\n"
      ],
      "execution_count": 12,
      "outputs": [
        {
          "output_type": "stream",
          "text": [
            "length 4\n",
            "Sorting: [1, 5, 6, 10, 20, 99]\n",
            "Remove the element 6: [1, 5, 10, 20, 99]\n",
            "Delete 1st index [1, 'Madhu', 'Raju', 56]\n",
            "Insert a value at 2nd Index [1, 'Madhu', 999, 'Raju', 56]\n",
            "count: 1\n",
            "merging l1,l2 [1, 'Madhu', 999, 'Raju', 56, 10, 20, 30]\n",
            "HelloHai\n",
            "Multiplying: [1, 'Madhu', 999, 'Raju', 56, 1, 'Madhu', 999, 'Raju', 56, 1, 'Madhu', 999, 'Raju', 56]\n",
            "Value not available\n",
            "The value is not available\n",
            "['Raju', 'Madhu', 10, 1]\n",
            "['Raju', 'Madhu', 10, 1]\n",
            "[1, 2, 3, 4, 5, 6, 7, 8]\n"
          ],
          "name": "stdout"
        }
      ]
    },
    {
      "cell_type": "code",
      "metadata": {
        "id": "Lf3MXnkjbCAJ",
        "outputId": "803bff13-0f86-4ed0-e52f-d49c3a729aed",
        "colab": {
          "base_uri": "https://localhost:8080/"
        }
      },
      "source": [
        "\n",
        "def tuplex():\n",
        "  t1=(10,20,\"Raju\",\"Sinu\")\n",
        "  print(\"Elements in t1:\",t1)\n",
        "  t2=(20,30,40,50)\n",
        "  t3=t1+t2\n",
        "  print(\"Merge:\",t3)\n",
        "  print(\"Slice:\",t1[1:3])\n",
        "  print(\"Slice:\",t2[0:-1])\n",
        "  print(\"Multiply:\",t1*3)\n",
        "tuplex()"
      ],
      "execution_count": 13,
      "outputs": [
        {
          "output_type": "stream",
          "text": [
            "Elements in t1: (10, 20, 'Raju', 'Sinu')\n",
            "Merge: (10, 20, 'Raju', 'Sinu', 20, 30, 40, 50)\n",
            "Slice: (20, 'Raju')\n",
            "Slice: (20, 30, 40)\n",
            "Multiply: (10, 20, 'Raju', 'Sinu', 10, 20, 'Raju', 'Sinu', 10, 20, 'Raju', 'Sinu')\n"
          ],
          "name": "stdout"
        }
      ]
    },
    {
      "cell_type": "code",
      "metadata": {
        "id": "Q53dqKP5bNyA",
        "outputId": "ff101ea1-ea7d-423e-d088-a6f56cf8936e",
        "colab": {
          "base_uri": "https://localhost:8080/"
        }
      },
      "source": [
        "\n",
        "def dictex():\n",
        "  d1={1:10,2:20,3:30,4:40,1:100}\n",
        "  print(d1)\n",
        "  print(\"Keys:\",d1.keys())\n",
        "  print(\"Value:\",d1.values())\n",
        "  print(d1[1])\n",
        "\n",
        "dictex()"
      ],
      "execution_count": 14,
      "outputs": [
        {
          "output_type": "stream",
          "text": [
            "{1: 100, 2: 20, 3: 30, 4: 40}\n",
            "Keys: dict_keys([1, 2, 3, 4])\n",
            "Value: dict_values([100, 20, 30, 40])\n",
            "100\n"
          ],
          "name": "stdout"
        }
      ]
    },
    {
      "cell_type": "code",
      "metadata": {
        "id": "2VnMoWkvbUhd",
        "outputId": "f0310d98-0215-4f3d-c9cb-e42a8cd58435",
        "colab": {
          "base_uri": "https://localhost:8080/"
        }
      },
      "source": [
        "print(\"len:\",len(\"Hai\"))\n",
        "print(\"Hai,\"+\"How are you\")\n",
        "print(\"Hai\"*4)\n",
        "print('Hai\\\\How')\n",
        "if 's' in \"Sataya\":\n",
        "  print(\"True\")\n",
        "else:\n",
        "  print(\"False\")\n",
        "if 'j' in \"satya\":\n",
        "  print(\"True\")\n",
        "else:\n",
        "  print(\"False\")\n",
        "S=\"satya\"\n",
        "print(S.find('sa'))\n",
        "print(S.find('a'))\n",
        "print(S.find('a',2,4))\n",
        "print(S.find('a',2,3))\n",
        "print(S.index('sa'))\n",
        "print(S.index('t',2,4))\n",
        "s1=\"abcabcab\"\n",
        "s2=s1.replace('a','cd')\n",
        "print(s1,'\\n',s2)\n",
        "print(\"id of s1\",id(s1))\n",
        "print(\"id of s2\",id(s2))\n",
        "s3=\"Hai Bye\"\n",
        "s4=s3.upper()\n",
        "s5=s3.lower()\n",
        "s6=s3.swapcase()\n",
        "s7=s3.title()\n",
        "s8=s3.capitalize()\n",
        "print(s4)\n",
        "print(s5)\n",
        "print(s6)\n",
        "print(s7)\n",
        "print(s8)\n"
      ],
      "execution_count": 15,
      "outputs": [
        {
          "output_type": "stream",
          "text": [
            "len: 3\n",
            "Hai,How are you\n",
            "HaiHaiHaiHai\n",
            "Hai\\How\n",
            "False\n",
            "False\n",
            "0\n",
            "1\n",
            "-1\n",
            "-1\n",
            "0\n",
            "2\n",
            "abcabcab \n",
            " cdbccdbccdb\n",
            "id of s1 139639164997232\n",
            "id of s2 139639164991856\n",
            "HAI BYE\n",
            "hai bye\n",
            "hAI bYE\n",
            "Hai Bye\n",
            "Hai bye\n"
          ],
          "name": "stdout"
        }
      ]
    },
    {
      "cell_type": "code",
      "metadata": {
        "id": "7r4vPR1-bbF4",
        "outputId": "70285af8-79dc-4adb-ee86-8570249fa1e9",
        "colab": {
          "base_uri": "https://localhost:8080/"
        }
      },
      "source": [
        "s1={10,20,\"Hai\",20}\n",
        "s2={20,30,\"Hai\"}\n",
        "print(\"Union\",s1.union(s2))\n",
        "print(\"Intersection\",s1.intersection(s2))\n",
        "print(\"Difference\",s1.difference(s2))\n",
        "print(\"Difference\",s2.difference(s1))\n",
        "print(\"Symmetric Difference\",s1.symmetric_difference(s2))\n",
        "print(\"Union\",s1|s2)\n",
        "print(\"Inter\",s1&s2)\n",
        "print(\"Diff\",s1-s2)\n",
        "print(\"Symmetric Diff\",s1^s2)\n",
        "s3={10,20,40}\n",
        "s4=s3\n",
        "s5=s3.copy()\n",
        "s3.clear()\n",
        "s4.add(100)\n",
        "s5.add(200)\n",
        "print(\"clear:\",s3)\n",
        "print(100 in s4)\n",
        "print(100 not in s4)\n",
        "print(200 in s5)\n",
        "print(200 not in s5)\n",
        "print(200 in s4)\n",
        "print(200 not in s4)\n",
        "print(100 in s5)\n",
        "print(100 not in s5)\n"
      ],
      "execution_count": 16,
      "outputs": [
        {
          "output_type": "stream",
          "text": [
            "Union {'Hai', 20, 10, 30}\n",
            "Intersection {'Hai', 20}\n",
            "Difference {10}\n",
            "Difference {30}\n",
            "Symmetric Difference {10, 30}\n",
            "Union {'Hai', 20, 10, 30}\n",
            "Inter {'Hai', 20}\n",
            "Diff {10}\n",
            "Symmetric Diff {10, 30}\n",
            "clear: {100}\n",
            "True\n",
            "False\n",
            "True\n",
            "False\n",
            "False\n",
            "True\n",
            "False\n",
            "True\n"
          ],
          "name": "stdout"
        }
      ]
    }
  ]
}